{
 "cells": [
  {
   "cell_type": "code",
   "execution_count": 2,
   "metadata": {},
   "outputs": [
    {
     "name": "stdout",
     "output_type": "stream",
     "text": [
      "Requirement already satisfied: pandas in /opt/anaconda3/lib/python3.8/site-packages (1.1.3)\n",
      "Requirement already satisfied: python-dateutil>=2.7.3 in /opt/anaconda3/lib/python3.8/site-packages (from pandas) (2.8.1)\n",
      "Requirement already satisfied: numpy>=1.15.4 in /opt/anaconda3/lib/python3.8/site-packages (from pandas) (1.19.2)\n",
      "Requirement already satisfied: pytz>=2017.2 in /opt/anaconda3/lib/python3.8/site-packages (from pandas) (2020.1)\n",
      "Requirement already satisfied: six>=1.5 in /opt/anaconda3/lib/python3.8/site-packages (from python-dateutil>=2.7.3->pandas) (1.15.0)\n",
      "Requirement already satisfied: numpy in /opt/anaconda3/lib/python3.8/site-packages (1.19.2)\n",
      "Requirement already satisfied: scipy in /opt/anaconda3/lib/python3.8/site-packages (1.5.2)\n",
      "Requirement already satisfied: numpy>=1.14.5 in /opt/anaconda3/lib/python3.8/site-packages (from scipy) (1.19.2)\n",
      "Collecting sklearn\n",
      "  Downloading sklearn-0.0.tar.gz (1.1 kB)\n",
      "Requirement already satisfied: scikit-learn in /opt/anaconda3/lib/python3.8/site-packages (from sklearn) (0.23.2)\n",
      "Requirement already satisfied: scipy>=0.19.1 in /opt/anaconda3/lib/python3.8/site-packages (from scikit-learn->sklearn) (1.5.2)\n",
      "Requirement already satisfied: threadpoolctl>=2.0.0 in /opt/anaconda3/lib/python3.8/site-packages (from scikit-learn->sklearn) (2.1.0)\n",
      "Requirement already satisfied: numpy>=1.13.3 in /opt/anaconda3/lib/python3.8/site-packages (from scikit-learn->sklearn) (1.19.2)\n",
      "Requirement already satisfied: joblib>=0.11 in /opt/anaconda3/lib/python3.8/site-packages (from scikit-learn->sklearn) (0.17.0)\n",
      "Building wheels for collected packages: sklearn\n",
      "  Building wheel for sklearn (setup.py) ... \u001b[?25ldone\n",
      "\u001b[?25h  Created wheel for sklearn: filename=sklearn-0.0-py2.py3-none-any.whl size=1316 sha256=4e76bbb3f14af407bbef3465d36b7f1bf11b22f4e3edceff157c6a868409dccd\n",
      "  Stored in directory: /Users/tonnymutumba/Library/Caches/pip/wheels/22/0b/40/fd3f795caaa1fb4c6cb738bc1f56100be1e57da95849bfc897\n",
      "Successfully built sklearn\n",
      "Installing collected packages: sklearn\n",
      "Successfully installed sklearn-0.0\n"
     ]
    }
   ],
   "source": [
    "!pip install pandas\n",
    "!pip install numpy \n",
    "!pip install scipy \n",
    "!pip install sklearn\n"
   ]
  },
  {
   "cell_type": "code",
   "execution_count": 5,
   "metadata": {},
   "outputs": [],
   "source": [
    "import pandas as pd\n",
    "import numpy as np\n",
    "from sklearn.preprocessing import scale\n",
    "from sklearn.decomposition import PCA"
   ]
  },
  {
   "cell_type": "code",
   "execution_count": 6,
   "metadata": {},
   "outputs": [],
   "source": [
    "data = pd.read_csv('/Users/tonnymutumba/Desktop/Collabera DBQ/exe/data/b5.csv')"
   ]
  },
  {
   "cell_type": "raw",
   "metadata": {},
   "source": [
    "# Convert data to numpy array"
   ]
  },
  {
   "cell_type": "code",
   "execution_count": 7,
   "metadata": {},
   "outputs": [],
   "source": [
    "x = data.values "
   ]
  },
  {
   "cell_type": "raw",
   "metadata": {},
   "source": [
    "# Scale the values (helps to get all the values on the same range)"
   ]
  },
  {
   "cell_type": "code",
   "execution_count": 9,
   "metadata": {},
   "outputs": [],
   "source": [
    "x = scale(x)"
   ]
  },
  {
   "cell_type": "markdown",
   "metadata": {},
   "source": [
    "# Analysis"
   ]
  },
  {
   "cell_type": "raw",
   "metadata": {},
   "source": [
    "# Principle component analysis (PCA) for all the data"
   ]
  },
  {
   "cell_type": "code",
   "execution_count": 10,
   "metadata": {},
   "outputs": [
    {
     "name": "stdout",
     "output_type": "stream",
     "text": [
      "[0.16101911 0.09246263 0.07527279 0.07100381 0.05526279 0.0313044\n",
      " 0.02660753 0.02099101 0.01937029 0.01849593 0.01794133 0.01735232\n",
      " 0.01689316 0.01604282 0.01576013 0.01470117 0.01459846 0.01438242\n",
      " 0.01362569 0.01322527 0.0131285  0.01268631 0.01223362 0.01180048\n",
      " 0.01164071 0.01136677 0.01108761 0.0106515  0.01045028 0.0102118\n",
      " 0.01003675 0.00983507 0.00974897 0.00963948 0.0089566  0.00894\n",
      " 0.00868373 0.00840808 0.00831106 0.00808253 0.00793945 0.00760062\n",
      " 0.00748126 0.00727417 0.00694749 0.00689884 0.00650197 0.00647554\n",
      " 0.0062404  0.00442735]\n"
     ]
    }
   ],
   "source": [
    "pca = PCA()\n",
    "pca.fit(x)\n",
    "print(pca.explained_variance_ratio_)"
   ]
  },
  {
   "cell_type": "raw",
   "metadata": {},
   "source": [
    "# PCA for only 5 data points specifying 5 personality factors "
   ]
  },
  {
   "cell_type": "code",
   "execution_count": 11,
   "metadata": {},
   "outputs": [
    {
     "name": "stdout",
     "output_type": "stream",
     "text": [
      "[0.16101911 0.09246263 0.07527277 0.07100374 0.05526242]\n"
     ]
    }
   ],
   "source": [
    "pca5 = PCA(n_components=5)\n",
    "pca5.fit(x)\n",
    "print(pca5.explained_variance_ratio_)"
   ]
  },
  {
   "cell_type": "code",
   "execution_count": 12,
   "metadata": {},
   "outputs": [
    {
     "name": "stdout",
     "output_type": "stream",
     "text": [
      "[[-0.1839109   0.17969509 -0.25064926  0.20613725 -0.23166921  0.19768021\n",
      "  -0.22070143  0.13297334 -0.16463294  0.20183459  0.15465793 -0.12978253\n",
      "   0.12271685 -0.10236735  0.14227462  0.16681233  0.16277788  0.17394545\n",
      "   0.17756819  0.19476402  0.0925612  -0.17766544  0.09908269 -0.1146728\n",
      "   0.13341512 -0.05636215  0.18786136 -0.13286098 -0.11972873 -0.18783951\n",
      "  -0.11091575  0.05024029 -0.07324467  0.15190023 -0.10873744  0.09267686\n",
      "  -0.04455411  0.13905352 -0.09130652 -0.09521936 -0.0694333   0.09889442\n",
      "  -0.03539011  0.07185516 -0.13054388  0.08698021 -0.11181957 -0.01241599\n",
      "   0.00436462 -0.11687669]\n",
      " [-0.12862192  0.1674084  -0.07309088  0.09548051 -0.14847261  0.12807078\n",
      "  -0.13659267  0.10834963 -0.11568679  0.0757868  -0.2272886   0.14367201\n",
      "  -0.215997    0.11920651 -0.1882774  -0.25221835 -0.2445282  -0.24841724\n",
      "  -0.19627497 -0.18517836  0.08482997 -0.17630029 -0.05187761 -0.19235519\n",
      "   0.17356162 -0.17870291  0.17029251 -0.14027352 -0.2073457  -0.0945634\n",
      "   0.12414258 -0.16244184  0.04194378 -0.2015471   0.11324951 -0.16956419\n",
      "   0.07221144 -0.11064726  0.07160761  0.05409283 -0.0140678  -0.02882906\n",
      "  -0.10895237  0.02694708 -0.02198485  0.06266848  0.03788326 -0.04567378\n",
      "  -0.08996315 -0.0699629 ]\n",
      " [ 0.15474064 -0.14200913  0.06433571 -0.16686895  0.08699435 -0.10324931\n",
      "   0.1254703  -0.19086215  0.17681475 -0.15791586 -0.12673616  0.10490626\n",
      "  -0.18020245  0.055543   -0.03574116 -0.08461401 -0.00679818 -0.00969872\n",
      "  -0.02360844 -0.06604953  0.14076495 -0.0786527   0.20506284 -0.24969244\n",
      "   0.17249727 -0.22637684  0.11288496 -0.18872135 -0.22318428 -0.0749201\n",
      "  -0.18948143  0.18295836 -0.18242086  0.14800373 -0.20991426  0.18974493\n",
      "  -0.22826018  0.18083362 -0.24098088 -0.17502903  0.0303154  -0.03904729\n",
      "   0.02437674 -0.01209547  0.03014369 -0.03348465 -0.01390177  0.06327445\n",
      "  -0.12665684  0.04907732]\n",
      " [ 0.06423202 -0.07062347  0.1137605  -0.08778706  0.06367094  0.03443403\n",
      "   0.08309656 -0.0500346   0.01035904 -0.07706945 -0.00738455  0.01092755\n",
      "  -0.0304737   0.06478345  0.03478115  0.00495146 -0.04201297 -0.03809035\n",
      "  -0.04659759 -0.08902687 -0.00527116  0.0527591  -0.08487515  0.06939004\n",
      "  -0.07307195  0.09183796 -0.08051587  0.05092329  0.04029941  0.0324195\n",
      "  -0.08180117 -0.03834235 -0.16671899 -0.01421254  0.0379852  -0.01487118\n",
      "  -0.05508826  0.00606457  0.00387566 -0.14304445 -0.3293597   0.29349391\n",
      "  -0.28978851  0.25279009 -0.2977982   0.25756854 -0.26777968 -0.32521641\n",
      "  -0.20963563 -0.3301967 ]\n",
      " [ 0.1502992  -0.13018849  0.06692278 -0.13610769  0.13084493 -0.07263891\n",
      "   0.12690757 -0.14128209  0.15521228 -0.11125952  0.14169303 -0.14649006\n",
      "   0.10435925  0.00088382  0.12082146  0.15340395  0.16195069  0.1661066\n",
      "   0.22672892  0.0503688   0.17824779 -0.10999508  0.16664536 -0.20724532\n",
      "   0.19383725 -0.14171344  0.15479681 -0.14098556 -0.14260968 -0.02300972\n",
      "   0.2120073  -0.19849546  0.11491545 -0.11687708  0.23603679 -0.19481923\n",
      "   0.22282571 -0.09039546  0.24822841  0.16705522 -0.01959612  0.11529249\n",
      "  -0.05598718  0.15287216  0.0683089   0.07058638  0.02625698  0.00094157\n",
      "  -0.06649668  0.00891764]]\n"
     ]
    }
   ],
   "source": [
    "print(pca5.components_)"
   ]
  },
  {
   "cell_type": "code",
   "execution_count": null,
   "metadata": {},
   "outputs": [],
   "source": []
  }
 ],
 "metadata": {
  "kernelspec": {
   "display_name": "Python 3",
   "language": "python",
   "name": "python3"
  },
  "language_info": {
   "codemirror_mode": {
    "name": "ipython",
    "version": 3
   },
   "file_extension": ".py",
   "mimetype": "text/x-python",
   "name": "python",
   "nbconvert_exporter": "python",
   "pygments_lexer": "ipython3",
   "version": "3.8.5"
  }
 },
 "nbformat": 4,
 "nbformat_minor": 4
}
